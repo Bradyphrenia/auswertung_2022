{
 "cells": [
  {
   "cell_type": "code",
   "execution_count": 1,
   "id": "c5e1ac83",
   "metadata": {},
   "outputs": [],
   "source": [
    "import pandas as pd\n",
    "import numpy as np\n",
    "import psycopg2\n",
    "import matplotlib.pyplot as plt"
   ]
  },
  {
   "cell_type": "code",
   "execution_count": 2,
   "id": "211c278c",
   "metadata": {},
   "outputs": [],
   "source": [
    "conn = psycopg2.connect(\"host='192.168.178.78'  dbname='prothesen'  user='postgres' password='postgres' \")"
   ]
  },
  {
   "cell_type": "code",
   "execution_count": 3,
   "id": "a006a7ae",
   "metadata": {},
   "outputs": [],
   "source": [
    "cur = conn.cursor()"
   ]
  },
  {
   "cell_type": "markdown",
   "source": [],
   "metadata": {
    "collapsed": false
   }
  },
  {
   "cell_type": "code",
   "execution_count": 4,
   "id": "15ca11a5",
   "metadata": {},
   "outputs": [],
   "source": [
    "cur.execute(\"select * from prothesen where opdatum >='2022-01-01' and opdatum < '2022-12-31';\")"
   ]
  },
  {
   "cell_type": "code",
   "execution_count": 5,
   "id": "7c3e28be",
   "metadata": {},
   "outputs": [],
   "source": [
    "read = cur.fetchall()"
   ]
  },
  {
   "cell_type": "code",
   "execution_count": 6,
   "id": "c5883425",
   "metadata": {},
   "outputs": [],
   "source": [
    "cnames = [\"id\",\n",
    "          \"patientennummer\",\n",
    "          \"prothesenart\",\n",
    "          \"prothesentyp\",\n",
    "          \"proximal\",\n",
    "          \"distal\",\n",
    "          \"seite\",\n",
    "          \"wechseleingriff\",\n",
    "          \"praeop_roentgen\",\n",
    "          \"postop_roentgen\",\n",
    "          \"fraktur\",\n",
    "          \"planung\",\n",
    "          \"opdatum\",\n",
    "          \"operateur\",\n",
    "          \"assistenz\",\n",
    "          \"op_zeiten\",\n",
    "          \"infektion\",\n",
    "          \"luxation\",\n",
    "          \"inklinationswinkel\",\n",
    "          \"trochanterabriss\",\n",
    "          \"fissuren\",\n",
    "          \"thrombose_embolie\",\n",
    "          \"sterblichkeit\",\n",
    "          \"neurologie\",\n",
    "          \"dokumentation\",\n",
    "          \"memo\",\n",
    "          \"knochenverankert\",\n",
    "          \"periprothetisch\",\n",
    "          \"reintervention\",\n",
    "          \"abweichung\",\n",
    "          \"ct\",\n",
    "          \"ab_imp_art\",\n",
    "          \"ab_imp_groesse\",\n",
    "          \"ab_stab\",\n",
    "          \"ab_blutung\",\n",
    "          \"ab_praeop\",\n",
    "          \"ab_operation\",\n",
    "          \"ab_anaesthesie\",\n",
    "          \"spaet_infekt\",\n",
    "          \"einweiser\",\n",
    "          \"neunzig_tage\",\n",
    "          \"kniewinkel_prae\",\n",
    "          \"kniewinkel_post\",\n",
    "          \"vierundzwanzig_plus\",\n",
    "          \"oak\"]"
   ]
  },
  {
   "cell_type": "code",
   "execution_count": 7,
   "id": "1e2d8d99",
   "metadata": {
    "scrolled": true
   },
   "outputs": [],
   "source": [
    "df = pd.DataFrame(read, columns=cnames)"
   ]
  },
  {
   "cell_type": "code",
   "execution_count": 8,
   "id": "44b5fc9d",
   "metadata": {},
   "outputs": [],
   "source": [
    "prothesenart = df.groupby('prothesenart')"
   ]
  },
  {
   "cell_type": "code",
   "execution_count": 9,
   "id": "38618380",
   "metadata": {},
   "outputs": [
    {
     "data": {
      "text/plain": "prothesenart\nHüfte       313\nKnie        183\nSchulter     22\nName: id, dtype: int64"
     },
     "execution_count": 9,
     "metadata": {},
     "output_type": "execute_result"
    }
   ],
   "source": [
    "prothesenart['id'].count()"
   ]
  },
  {
   "cell_type": "code",
   "execution_count": 10,
   "id": "a8274d4b",
   "metadata": {},
   "outputs": [],
   "source": [
    "knie_rev = df[(df['prothesenart'] == 'Knie') & (df['wechseleingriff'] == True)]"
   ]
  },
  {
   "cell_type": "code",
   "execution_count": 11,
   "id": "c276bedb",
   "metadata": {},
   "outputs": [
    {
     "data": {
      "text/plain": "16"
     },
     "execution_count": 11,
     "metadata": {},
     "output_type": "execute_result"
    }
   ],
   "source": [
    "knie_rev['id'].count()"
   ]
  },
  {
   "cell_type": "code",
   "execution_count": 12,
   "id": "2be841af",
   "metadata": {},
   "outputs": [
    {
     "data": {
      "text/plain": "infektion\nFalse    16\ndtype: int64"
     },
     "execution_count": 12,
     "metadata": {},
     "output_type": "execute_result"
    }
   ],
   "source": [
    "knie_rev.groupby('infektion').size()"
   ]
  },
  {
   "cell_type": "code",
   "execution_count": 13,
   "id": "582dbb5d",
   "metadata": {},
   "outputs": [
    {
     "data": {
      "text/plain": "kniewinkel_post\nFalse    14\nTrue      2\ndtype: int64"
     },
     "execution_count": 13,
     "metadata": {},
     "output_type": "execute_result"
    }
   ],
   "source": [
    "knie_rev.groupby((knie_rev['kniewinkel_post'] > 3) | (knie_rev['kniewinkel_post'] < -3)).size()"
   ]
  },
  {
   "cell_type": "code",
   "execution_count": 14,
   "id": "ca677bcb",
   "metadata": {},
   "outputs": [
    {
     "data": {
      "text/plain": "fissuren\nFalse    16\ndtype: int64"
     },
     "execution_count": 14,
     "metadata": {},
     "output_type": "execute_result"
    }
   ],
   "source": [
    "knie_rev.groupby('fissuren').size()"
   ]
  },
  {
   "cell_type": "code",
   "execution_count": 15,
   "id": "4bdade63",
   "metadata": {},
   "outputs": [],
   "source": [
    "def runden(zahl):\n",
    "    return round(zahl / 5) * 5\n",
    "\n",
    "\n",
    "opz = knie_rev.groupby(runden(knie_rev['op_zeiten'])).size()"
   ]
  },
  {
   "cell_type": "code",
   "execution_count": 16,
   "id": "d3c9d569",
   "metadata": {},
   "outputs": [
    {
     "data": {
      "text/plain": "op_zeiten\nFalse    14\nTrue      2\ndtype: int64"
     },
     "execution_count": 16,
     "metadata": {},
     "output_type": "execute_result"
    }
   ],
   "source": [
    "knie_rev.groupby(knie_rev['op_zeiten'] > 120).size()"
   ]
  },
  {
   "cell_type": "code",
   "execution_count": 17,
   "id": "5a5fae87",
   "metadata": {},
   "outputs": [
    {
     "data": {
      "text/plain": "op_zeiten\n65.0     2\n70.0     1\n75.0     1\n80.0     1\n85.0     1\n90.0     2\n95.0     1\n105.0    3\n120.0    2\n135.0    1\n155.0    1\ndtype: int64"
     },
     "execution_count": 17,
     "metadata": {},
     "output_type": "execute_result"
    },
    {
     "data": {
      "text/plain": "<Figure size 640x480 with 1 Axes>",
      "image/png": "[encoded data removed]"
     },
     "metadata": {},
     "output_type": "display_data"
    }
   ],
   "source": [
    "plot2 = opz.plot(kind='line', xlabel='Op-Zeiten', ylabel='Anzahl', grid=True,\n",
    "                 title='Op-Zeiten Revision Knie 2022')\n",
    "# plot2.bar_label(plot2.containers[0])\n",
    "opz"
   ]
  },
  {
   "cell_type": "code",
   "execution_count": 18,
   "id": "ac9abb49",
   "metadata": {},
   "outputs": [
    {
     "data": {
      "text/plain": "thrombose_embolie\nFalse    16\ndtype: int64"
     },
     "execution_count": 18,
     "metadata": {},
     "output_type": "execute_result"
    }
   ],
   "source": [
    "knie_rev.groupby('thrombose_embolie').size()"
   ]
  },
  {
   "cell_type": "code",
   "execution_count": 19,
   "id": "a7256d86",
   "metadata": {},
   "outputs": [
    {
     "data": {
      "text/plain": "sterblichkeit\nFalse    16\ndtype: int64"
     },
     "execution_count": 19,
     "metadata": {},
     "output_type": "execute_result"
    }
   ],
   "source": [
    "knie_rev.groupby('sterblichkeit').size()"
   ]
  }
 ],
 "metadata": {
  "kernelspec": {
   "display_name": "Python 3",
   "language": "python",
   "name": "python3"
  },
  "language_info": {
   "codemirror_mode": {
    "name": "ipython",
    "version": 3
   },
   "file_extension": ".py",
   "mimetype": "text/x-python",
   "name": "python",
   "nbconvert_exporter": "python",
   "pygments_lexer": "ipython3",
   "version": "3.6.2"
  }
 },
 "nbformat": 4,
 "nbformat_minor": 5
}
