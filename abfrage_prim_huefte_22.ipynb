{
 "cells": [
  {
   "cell_type": "markdown",
   "id": "3d29d7a3",
   "metadata": {},
   "source": [
    "# primäre Hüfte 2022"
   ]
  },
  {
   "cell_type": "code",
   "execution_count": 1,
   "id": "c5e1ac83",
   "metadata": {},
   "outputs": [],
   "source": [
    "import pandas as pd\n",
    "import numpy as np\n",
    "import psycopg2\n",
    "import matplotlib.pyplot as plt"
   ]
  },
  {
   "cell_type": "code",
   "execution_count": 2,
   "id": "211c278c",
   "metadata": {},
   "outputs": [],
   "source": [
    "conn = psycopg2.connect(\"host='192.168.178.78'  dbname='prothesen'  user='postgres' password='postgres' \")"
   ]
  },
  {
   "cell_type": "code",
   "execution_count": 3,
   "id": "a006a7ae",
   "metadata": {},
   "outputs": [],
   "source": [
    "cur = conn.cursor()"
   ]
  },
  {
   "cell_type": "code",
   "execution_count": 4,
   "id": "15ca11a5",
   "metadata": {},
   "outputs": [],
   "source": [
    "cur.execute(\"select * from prothesen where opdatum >='2022-01-01' and opdatum < '2022-12-31';\")"
   ]
  },
  {
   "cell_type": "code",
   "execution_count": 5,
   "id": "7c3e28be",
   "metadata": {},
   "outputs": [],
   "source": [
    "read = cur.fetchall()"
   ]
  },
  {
   "cell_type": "code",
   "execution_count": 6,
   "id": "c5883425",
   "metadata": {},
   "outputs": [],
   "source": [
    "cnames = [\"id\", \"patientennummer\", \"prothesenart\", \"prothesentyp\", \"proximal\", \"distal\", \"seite\", \"wechseleingriff\",\n",
    "          \"praeop_roentgen\", \"postop_roentgen\", \"fraktur\", \"planung\", \"opdatum\", \"operateur\", \"assistenz\", \"op_zeiten\",\n",
    "          \"infektion\", \"luxation\", \"inklinationswinkel\", \"trochanterabriss\", \"fissuren\", \"thrombose_embolie\",\n",
    "          \"sterblichkeit\", \"neurologie\", \"dokumentation\", \"memo\", \"knochenverankert\", \"periprothetisch\",\n",
    "          \"reintervention\", \"abweichung\", \"ct\", \"ab_imp_art\", \"ab_imp_groesse\", \"ab_stab\", \"ab_blutung\", \"ab_praeop\",\n",
    "          \"ab_operation\", \"ab_anaesthesie\", \"spaet_infekt\", \"einweiser\", \"neunzig_tage\", \"kniewinkel_prae\",\n",
    "          \"kniewinkel_post\", \"vierundzwanzig_plus\", \"oak\"]"
   ]
  },
  {
   "cell_type": "code",
   "execution_count": 7,
   "id": "1e2d8d99",
   "metadata": {
    "scrolled": true
   },
   "outputs": [],
   "source": [
    "df = pd.DataFrame(read, columns=cnames)"
   ]
  },
  {
   "cell_type": "code",
   "execution_count": 8,
   "id": "a8274d4b",
   "metadata": {},
   "outputs": [],
   "source": [
    "huefte_p = df[(df['prothesenart'] == 'Hüfte') & (df['wechseleingriff'] == False) & (df['fraktur'] == False)]"
   ]
  },
  {
   "cell_type": "code",
   "execution_count": 9,
   "id": "c276bedb",
   "metadata": {},
   "outputs": [
    {
     "data": {
      "text/plain": "211"
     },
     "execution_count": 9,
     "metadata": {},
     "output_type": "execute_result"
    }
   ],
   "source": [
    "huefte_p['id'].count()"
   ]
  },
  {
   "cell_type": "code",
   "execution_count": 10,
   "id": "2be841af",
   "metadata": {},
   "outputs": [
    {
     "data": {
      "text/plain": "infektion\nFalse    209\nTrue       2\ndtype: int64"
     },
     "execution_count": 10,
     "metadata": {},
     "output_type": "execute_result"
    }
   ],
   "source": [
    "huefte_p.groupby('infektion').size()"
   ]
  },
  {
   "cell_type": "code",
   "execution_count": 11,
   "id": "97bdf4f5",
   "metadata": {},
   "outputs": [
    {
     "data": {
      "text/plain": "luxation\nFalse    211\ndtype: int64"
     },
     "execution_count": 11,
     "metadata": {},
     "output_type": "execute_result"
    }
   ],
   "source": [
    "huefte_p.groupby('luxation').size()"
   ]
  },
  {
   "cell_type": "code",
   "execution_count": 12,
   "id": "582dbb5d",
   "metadata": {},
   "outputs": [
    {
     "data": {
      "text/plain": "inklinationswinkel\nFalse    203\nTrue       8\ndtype: int64"
     },
     "execution_count": 12,
     "metadata": {},
     "output_type": "execute_result"
    }
   ],
   "source": [
    "huefte_p.groupby(huefte_p['inklinationswinkel'] > 50).size()"
   ]
  },
  {
   "cell_type": "code",
   "execution_count": 13,
   "id": "ed0b0057",
   "metadata": {},
   "outputs": [
    {
     "data": {
      "text/plain": "trochanterabriss\nFalse    210\nTrue       1\ndtype: int64"
     },
     "execution_count": 13,
     "metadata": {},
     "output_type": "execute_result"
    }
   ],
   "source": [
    "huefte_p.groupby('trochanterabriss').size()"
   ]
  },
  {
   "cell_type": "code",
   "execution_count": 14,
   "id": "ca677bcb",
   "metadata": {},
   "outputs": [
    {
     "data": {
      "text/plain": "fissuren\nFalse    206\nTrue       5\ndtype: int64"
     },
     "execution_count": 14,
     "metadata": {},
     "output_type": "execute_result"
    }
   ],
   "source": [
    "huefte_p.groupby('fissuren').size()"
   ]
  },
  {
   "cell_type": "code",
   "execution_count": 15,
   "outputs": [
    {
     "data": {
      "text/plain": "inklinationswinkel\nFalse    203\nTrue       8\ndtype: int64"
     },
     "execution_count": 15,
     "metadata": {},
     "output_type": "execute_result"
    }
   ],
   "source": [
    "huefte_p.groupby(huefte_p['inklinationswinkel'] > 50).size()"
   ],
   "metadata": {
    "collapsed": false
   }
  },
  {
   "cell_type": "code",
   "execution_count": 16,
   "outputs": [
    {
     "data": {
      "text/plain": "3.8461538461538463"
     },
     "execution_count": 16,
     "metadata": {},
     "output_type": "execute_result"
    }
   ],
   "source": [
    "huefte_p.groupby(huefte_p['inklinationswinkel'] > 50).size()[1] * 100 / huefte_p['inklinationswinkel'].count()\n",
    "\n",
    "\n"
   ],
   "metadata": {
    "collapsed": false
   }
  },
  {
   "cell_type": "code",
   "execution_count": 17,
   "id": "4bdade63",
   "metadata": {},
   "outputs": [],
   "source": [
    "\n",
    "def runden(zahl):\n",
    "    return round(zahl / 5) * 5\n",
    "\n",
    "\n",
    "inkl = huefte_p.groupby(runden(huefte_p['inklinationswinkel'])).size()\n",
    "opz = huefte_p.groupby(runden(huefte_p['op_zeiten'])).size()"
   ]
  },
  {
   "cell_type": "code",
   "execution_count": 18,
   "id": "7fc4ff99",
   "metadata": {},
   "outputs": [
    {
     "data": {
      "text/plain": "inklinationswinkel\n30.0     7\n35.0    20\n40.0    58\n45.0    81\n50.0    37\n55.0     5\ndtype: int64"
     },
     "execution_count": 18,
     "metadata": {},
     "output_type": "execute_result"
    },
    {
     "data": {
      "text/plain": "<Figure size 640x480 with 1 Axes>",
      "image/png": "[encoded data removed]"
     },
     "metadata": {},
     "output_type": "display_data"
    }
   ],
   "source": [
    "plot1 = inkl.plot(kind='bar', xlabel='Inklininationswinkel', ylabel='Anzahl', grid=True,\n",
    "                  title='Inklinationswinkel primäre Hüfte 2022')\n",
    "# plot1.bar_label(plot1.containers[0])\n",
    "inkl"
   ]
  },
  {
   "cell_type": "code",
   "execution_count": 19,
   "id": "1837b499",
   "metadata": {},
   "outputs": [
    {
     "data": {
      "text/plain": "op_zeiten\nFalse    204\nTrue       7\ndtype: int64"
     },
     "execution_count": 19,
     "metadata": {},
     "output_type": "execute_result"
    }
   ],
   "source": [
    "huefte_p.groupby(huefte_p['op_zeiten'] > 100).size()"
   ]
  },
  {
   "cell_type": "code",
   "execution_count": 20,
   "id": "6051adfd",
   "metadata": {},
   "outputs": [
    {
     "data": {
      "text/plain": "op_zeiten\n40.0      2\n45.0      6\n50.0     19\n55.0     34\n60.0     34\n65.0     27\n70.0     15\n75.0     23\n80.0     14\n85.0      8\n90.0      7\n95.0      9\n100.0     6\n105.0     1\n110.0     1\n120.0     1\n135.0     2\n145.0     1\n155.0     1\ndtype: int64"
     },
     "execution_count": 20,
     "metadata": {},
     "output_type": "execute_result"
    },
    {
     "data": {
      "text/plain": "<Figure size 640x480 with 1 Axes>",
      "image/png": "[encoded data removed]"
     },
     "metadata": {},
     "output_type": "display_data"
    }
   ],
   "source": [
    "plot2 = opz.plot(kind='line', xlabel='Op-Zeiten', ylabel='Anzahl', grid=True,\n",
    "                 title='Op-Zeiten primäre Hüfte 2022')\n",
    "# plot2.bar_label(plot2.containers[0])\n",
    "opz"
   ]
  },
  {
   "cell_type": "code",
   "execution_count": 21,
   "id": "c9f994f3",
   "metadata": {},
   "outputs": [
    {
     "data": {
      "text/plain": "thrombose_embolie\nFalse    211\ndtype: int64"
     },
     "execution_count": 21,
     "metadata": {},
     "output_type": "execute_result"
    }
   ],
   "source": [
    "huefte_p.groupby('thrombose_embolie').size()"
   ]
  },
  {
   "cell_type": "code",
   "execution_count": 22,
   "id": "ba79d51c",
   "metadata": {},
   "outputs": [
    {
     "data": {
      "text/plain": "sterblichkeit\nFalse    210\nTrue       1\ndtype: int64"
     },
     "execution_count": 22,
     "metadata": {},
     "output_type": "execute_result"
    }
   ],
   "source": [
    "huefte_p.groupby('sterblichkeit').size()"
   ]
  },
  {
   "cell_type": "code",
   "execution_count": 22,
   "outputs": [],
   "source": [],
   "metadata": {
    "collapsed": false
   }
  }
 ],
 "metadata": {
  "kernelspec": {
   "display_name": "Python 3",
   "language": "python",
   "name": "python3"
  },
  "language_info": {
   "codemirror_mode": {
    "name": "ipython",
    "version": 3
   },
   "file_extension": ".py",
   "mimetype": "text/x-python",
   "name": "python",
   "nbconvert_exporter": "python",
   "pygments_lexer": "ipython3",
   "version": "3.6.2"
  }
 },
 "nbformat": 4,
 "nbformat_minor": 5
}
