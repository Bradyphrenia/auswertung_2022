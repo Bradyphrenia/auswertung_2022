{
 "cells": [
  {
   "cell_type": "code",
   "execution_count": null,
   "id": "c5e1ac83",
   "metadata": {},
   "outputs": [],
   "source": [
    "import pandas as pd\n",
    "import numpy as np\n",
    "import psycopg2\n",
    "import matplotlib.pyplot as plt"
   ]
  },
  {
   "cell_type": "code",
   "execution_count": null,
   "id": "211c278c",
   "metadata": {},
   "outputs": [],
   "source": [
    "conn = psycopg2.connect(\"host='192.168.178.78'  dbname='prothesen'  user='postgres' password='postgres' \")"
   ]
  },
  {
   "cell_type": "code",
   "execution_count": null,
   "id": "a006a7ae",
   "metadata": {},
   "outputs": [],
   "source": [
    "cur = conn.cursor()"
   ]
  },
  {
   "cell_type": "code",
   "execution_count": null,
   "id": "15ca11a5",
   "metadata": {},
   "outputs": [],
   "source": [
    "cur.execute(\"select * from prothesen where opdatum >='2022-01-01' and opdatum < '2022-12-31';\")"
   ]
  },
  {
   "cell_type": "code",
   "execution_count": null,
   "id": "7c3e28be",
   "metadata": {},
   "outputs": [],
   "source": [
    "read = cur.fetchall()"
   ]
  },
  {
   "cell_type": "code",
   "execution_count": null,
   "id": "c5883425",
   "metadata": {},
   "outputs": [],
   "source": [
    "cnames = [\"id\", \"patientennummer\", \"prothesenart\", \"prothesentyp\", \"proximal\", \"distal\", \"seite\", \"wechseleingriff\",\n",
    "          \"praeop_roentgen\", \"postop_roentgen\", \"fraktur\", \"planung\", \"opdatum\", \"operateur\", \"assistenz\", \"op_zeiten\",\n",
    "          \"infektion\", \"luxation\", \"inklinationswinkel\", \"trochanterabriss\", \"fissuren\", \"thrombose_embolie\",\n",
    "          \"sterblichkeit\", \"neurologie\", \"dokumentation\", \"memo\", \"knochenverankert\", \"periprothetisch\",\n",
    "          \"reintervention\", \"abweichung\", \"ct\", \"ab_imp_art\", \"ab_imp_groesse\", \"ab_stab\", \"ab_blutung\", \"ab_praeop\",\n",
    "          \"ab_operation\", \"ab_anaesthesie\", \"spaet_infekt\", \"einweiser\", \"neunzig_tage\", \"kniewinkel_prae\",\n",
    "          \"kniewinkel_post\", \"vierundzwanzig_plus\", \"oak\"]"
   ]
  },
  {
   "cell_type": "code",
   "execution_count": null,
   "id": "1e2d8d99",
   "metadata": {
    "scrolled": true
   },
   "outputs": [],
   "source": [
    "df = pd.DataFrame(read, columns=cnames)"
   ]
  },
  {
   "cell_type": "code",
   "execution_count": null,
   "id": "a8274d4b",
   "metadata": {},
   "outputs": [],
   "source": [
    "knie_p = df[(df['prothesenart'] == 'Knie') & (df['wechseleingriff'] == False)]"
   ]
  },
  {
   "cell_type": "code",
   "execution_count": null,
   "id": "c276bedb",
   "metadata": {},
   "outputs": [],
   "source": [
    "knie_p['id'].count()"
   ]
  },
  {
   "cell_type": "code",
   "execution_count": null,
   "id": "2be841af",
   "metadata": {},
   "outputs": [],
   "source": [
    "knie_p.groupby('infektion').size()"
   ]
  },
  {
   "cell_type": "code",
   "execution_count": null,
   "id": "582dbb5d",
   "metadata": {},
   "outputs": [],
   "source": [
    "knie_p.groupby((knie_p['kniewinkel_post'] > 3) | (knie_p['kniewinkel_post'] < -3)).size()"
   ]
  },
  {
   "cell_type": "code",
   "execution_count": null,
   "id": "ca677bcb",
   "metadata": {},
   "outputs": [],
   "source": [
    "knie_p.groupby('fissuren').size()"
   ]
  },
  {
   "cell_type": "code",
   "execution_count": null,
   "id": "4bdade63",
   "metadata": {},
   "outputs": [],
   "source": [
    "def runden(zahl):\n",
    "    return round(zahl / 5) * 5\n",
    "\n",
    "\n",
    "opz = knie_p.groupby(runden(knie_p['op_zeiten'])).size()"
   ]
  },
  {
   "cell_type": "code",
   "execution_count": null,
   "id": "d3c9d569",
   "metadata": {},
   "outputs": [],
   "source": [
    "knie_p.groupby(knie_p['op_zeiten'] > 120).size()"
   ]
  },
  {
   "cell_type": "code",
   "execution_count": null,
   "id": "5a5fae87",
   "metadata": {},
   "outputs": [],
   "source": [
    "plot2 = opz.plot(kind='line', xlabel='Op-Zeiten', ylabel='Anzahl', grid=True,\n",
    "                 title='Op-Zeiten primäres Knie 2022')\n",
    "# plot2.bar_label(plot2.containers[0])\n",
    "opz"
   ]
  },
  {
   "cell_type": "code",
   "execution_count": null,
   "id": "ac9abb49",
   "metadata": {},
   "outputs": [],
   "source": [
    "knie_p.groupby('thrombose_embolie').size()"
   ]
  },
  {
   "cell_type": "code",
   "execution_count": null,
   "id": "a7256d86",
   "metadata": {},
   "outputs": [],
   "source": [
    "knie_p.groupby('sterblichkeit').size()"
   ]
  }
 ],
 "metadata": {
  "kernelspec": {
   "display_name": "Python 3",
   "language": "python",
   "name": "python3"
  },
  "language_info": {
   "codemirror_mode": {
    "name": "ipython",
    "version": 3
   },
   "file_extension": ".py",
   "mimetype": "text/x-python",
   "name": "python",
   "nbconvert_exporter": "python",
   "pygments_lexer": "ipython3",
   "version": "3.6.2"
  }
 },
 "nbformat": 4,
 "nbformat_minor": 5
}
