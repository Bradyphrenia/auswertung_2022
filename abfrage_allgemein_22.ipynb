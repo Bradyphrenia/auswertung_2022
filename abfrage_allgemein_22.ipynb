{
 "cells": [
  {
   "cell_type": "markdown",
   "id": "d7f96f07",
   "metadata": {},
   "source": [
    "# Prothesen allgemein 2022"
   ]
  },
  {
   "cell_type": "code",
   "execution_count": 1,
   "id": "c5e1ac83",
   "metadata": {},
   "outputs": [],
   "source": [
    "import pandas as pd\n",
    "import numpy as np\n",
    "import psycopg2\n",
    "import matplotlib.pyplot as plt"
   ]
  },
  {
   "cell_type": "code",
   "execution_count": 2,
   "id": "211c278c",
   "metadata": {},
   "outputs": [],
   "source": [
    "conn = psycopg2.connect(\"host='192.168.178.78'  dbname='prothesen'  user='postgres' password='postgres' \")"
   ]
  },
  {
   "cell_type": "code",
   "execution_count": 3,
   "id": "a006a7ae",
   "metadata": {},
   "outputs": [],
   "source": [
    "cur = conn.cursor()"
   ]
  },
  {
   "cell_type": "code",
   "execution_count": 4,
   "id": "15ca11a5",
   "metadata": {},
   "outputs": [],
   "source": [
    "cur.execute(\"select * from prothesen where opdatum >='2022-01-01' and opdatum < '2022-12-31';\")"
   ]
  },
  {
   "cell_type": "code",
   "execution_count": 5,
   "id": "7c3e28be",
   "metadata": {},
   "outputs": [],
   "source": [
    "read = cur.fetchall()"
   ]
  },
  {
   "cell_type": "code",
   "execution_count": 6,
   "id": "c5883425",
   "metadata": {},
   "outputs": [],
   "source": [
    "cnames = [\"id\", \"patientennummer\", \"prothesenart\", \"prothesentyp\", \"proximal\", \"distal\", \"seite\", \"wechseleingriff\",\n",
    "          \"praeop_roentgen\", \"postop_roentgen\", \"fraktur\", \"planung\", \"opdatum\", \"operateur\", \"assistenz\", \"op_zeiten\",\n",
    "          \"infektion\", \"luxation\", \"inklinationswinkel\", \"trochanterabriss\", \"fissuren\", \"thrombose_embolie\",\n",
    "          \"sterblichkeit\", \"neurologie\", \"dokumentation\", \"memo\", \"knochenverankert\", \"periprothetisch\",\n",
    "          \"reintervention\", \"abweichung\", \"ct\", \"ab_imp_art\", \"ab_imp_groesse\", \"ab_stab\", \"ab_blutung\", \"ab_praeop\",\n",
    "          \"ab_operation\", \"ab_anaesthesie\", \"spaet_infekt\", \"einweiser\", \"neunzig_tage\", \"kniewinkel_prae\",\n",
    "          \"kniewinkel_post\", \"vierundzwanzig_plus\", \"oak\"]"
   ]
  },
  {
   "cell_type": "code",
   "execution_count": 7,
   "id": "1e2d8d99",
   "metadata": {
    "scrolled": true
   },
   "outputs": [],
   "source": [
    "df = pd.DataFrame(read, columns=cnames)"
   ]
  },
  {
   "cell_type": "code",
   "execution_count": 8,
   "id": "38618380",
   "metadata": {},
   "outputs": [
    {
     "data": {
      "text/plain": "prothesenart\nHüfte       313\nKnie        183\nSchulter     22\nName: id, dtype: int64"
     },
     "execution_count": 8,
     "metadata": {},
     "output_type": "execute_result"
    }
   ],
   "source": [
    "df.groupby('prothesenart')['id'].count()"
   ]
  },
  {
   "cell_type": "code",
   "execution_count": 9,
   "id": "44b5fc9d",
   "metadata": {},
   "outputs": [
    {
     "data": {
      "text/plain": "prothesenart  wechseleingriff\nHüfte         False              291\n              True                22\nKnie          False              167\n              True                16\nSchulter      False               21\n              True                 1\nName: id, dtype: int64"
     },
     "execution_count": 9,
     "metadata": {},
     "output_type": "execute_result"
    }
   ],
   "source": [
    "df.groupby(['prothesenart', 'wechseleingriff'])['id'].count()"
   ]
  },
  {
   "cell_type": "code",
   "execution_count": 10,
   "id": "76fa82b6",
   "metadata": {},
   "outputs": [
    {
     "data": {
      "text/plain": "operateur\nDietze      55\nHaar       129\nJoker        2\nMachner      1\nNeu        211\nTroeger    120\nName: id, dtype: int64"
     },
     "execution_count": 10,
     "metadata": {},
     "output_type": "execute_result"
    }
   ],
   "source": [
    "df.groupby('operateur')['id'].count()"
   ]
  }
 ],
 "metadata": {
  "kernelspec": {
   "display_name": "Python 3 (ipykernel)",
   "language": "python",
   "name": "python3"
  },
  "language_info": {
   "codemirror_mode": {
    "name": "ipython",
    "version": 3
   },
   "file_extension": ".py",
   "mimetype": "text/x-python",
   "name": "python",
   "nbconvert_exporter": "python",
   "pygments_lexer": "ipython3",
   "version": "3.10.9"
  }
 },
 "nbformat": 4,
 "nbformat_minor": 5
}
